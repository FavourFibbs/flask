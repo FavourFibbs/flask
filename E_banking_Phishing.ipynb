{
 "cells": [
  {
   "cell_type": "code",
   "execution_count": 1,
   "metadata": {
    "id": "KjT6naI_sPNT"
   },
   "outputs": [],
   "source": [
    "import requests\n",
    "import pandas as pd\n",
    "import phe as paillier\n",
    "import time\n",
    "import seaborn as sns\n",
    "import matplotlib.pyplot as plt\n",
    "import os.path\n",
    "import numpy as np\n",
    "from sklearn.ensemble import RandomForestClassifier\n",
    "from sklearn.model_selection import train_test_split\n",
    "from sklearn.feature_extraction.text import CountVectorizer\n",
    "from sklearn.metrics import f1_score\n",
    "from sklearn.metrics import accuracy_score\n",
    "from sklearn.metrics import classification_report, confusion_matrix\n",
    "from lime.lime_text import LimeTextExplainer\n",
    "import numpy as np\n",
    "from sklearn.linear_model import LogisticRegression"
   ]
  },
  {
   "cell_type": "markdown",
   "metadata": {
    "id": "QoJgwA-ssSNt"
   },
   "source": [
    "# Reading E-BANKING PHSIHING URLS FROM PHISHTANK"
   ]
  },
  {
   "cell_type": "code",
   "execution_count": 2,
   "metadata": {
    "colab": {
     "base_uri": "https://localhost:8080/",
     "height": 206
    },
    "id": "zRmdU73VhMVP",
    "outputId": "5f7d0704-199e-4729-c391-0dc97d007914"
   },
   "outputs": [
    {
     "data": {
      "text/html": [
       "<div>\n",
       "<style scoped>\n",
       "    .dataframe tbody tr th:only-of-type {\n",
       "        vertical-align: middle;\n",
       "    }\n",
       "\n",
       "    .dataframe tbody tr th {\n",
       "        vertical-align: top;\n",
       "    }\n",
       "\n",
       "    .dataframe thead th {\n",
       "        text-align: right;\n",
       "    }\n",
       "</style>\n",
       "<table border=\"1\" class=\"dataframe\">\n",
       "  <thead>\n",
       "    <tr style=\"text-align: right;\">\n",
       "      <th></th>\n",
       "      <th>Urls</th>\n",
       "      <th>Label</th>\n",
       "    </tr>\n",
       "  </thead>\n",
       "  <tbody>\n",
       "    <tr>\n",
       "      <th>0</th>\n",
       "      <td>https://point-relaisfrance.com/</td>\n",
       "      <td>1</td>\n",
       "    </tr>\n",
       "    <tr>\n",
       "      <th>1</th>\n",
       "      <td>https://point-relaisfrance.com/pac/calcul.php</td>\n",
       "      <td>1</td>\n",
       "    </tr>\n",
       "    <tr>\n",
       "      <th>2</th>\n",
       "      <td>https://allegrolokalnie.pl-kategorie-inne-120.icu</td>\n",
       "      <td>1</td>\n",
       "    </tr>\n",
       "    <tr>\n",
       "      <th>3</th>\n",
       "      <td>https://download-wallett-home.webflow.io</td>\n",
       "      <td>1</td>\n",
       "    </tr>\n",
       "    <tr>\n",
       "      <th>4</th>\n",
       "      <td>https://gasimoldiutarfditafidari.cfolks.pl/a/a...</td>\n",
       "      <td>1</td>\n",
       "    </tr>\n",
       "  </tbody>\n",
       "</table>\n",
       "</div>"
      ],
      "text/plain": [
       "                                                Urls  Label\n",
       "0                    https://point-relaisfrance.com/      1\n",
       "1      https://point-relaisfrance.com/pac/calcul.php      1\n",
       "2  https://allegrolokalnie.pl-kategorie-inne-120.icu      1\n",
       "3           https://download-wallett-home.webflow.io      1\n",
       "4  https://gasimoldiutarfditafidari.cfolks.pl/a/a...      1"
      ]
     },
     "execution_count": 2,
     "metadata": {},
     "output_type": "execute_result"
    }
   ],
   "source": [
    "df = pd.read_csv('phishtank_urls.csv')\n",
    "df.head()"
   ]
  },
  {
   "cell_type": "markdown",
   "metadata": {
    "id": "Clmn9nkolPPw"
   },
   "source": [
    "# Reading Legit urls downloaded from https://majestic.com/reports/majestic-million"
   ]
  },
  {
   "cell_type": "code",
   "execution_count": 3,
   "metadata": {
    "colab": {
     "base_uri": "https://localhost:8080/",
     "height": 206
    },
    "id": "L0BUigMelU1P",
    "outputId": "5d76134d-a342-4062-caa5-02d6727b67f0"
   },
   "outputs": [
    {
     "data": {
      "text/html": [
       "<div>\n",
       "<style scoped>\n",
       "    .dataframe tbody tr th:only-of-type {\n",
       "        vertical-align: middle;\n",
       "    }\n",
       "\n",
       "    .dataframe tbody tr th {\n",
       "        vertical-align: top;\n",
       "    }\n",
       "\n",
       "    .dataframe thead th {\n",
       "        text-align: right;\n",
       "    }\n",
       "</style>\n",
       "<table border=\"1\" class=\"dataframe\">\n",
       "  <thead>\n",
       "    <tr style=\"text-align: right;\">\n",
       "      <th></th>\n",
       "      <th>GlobalRank</th>\n",
       "      <th>TldRank</th>\n",
       "      <th>Domain</th>\n",
       "      <th>TLD</th>\n",
       "      <th>RefSubNets</th>\n",
       "      <th>RefIPs</th>\n",
       "      <th>IDN_Domain</th>\n",
       "      <th>IDN_TLD</th>\n",
       "      <th>PrevGlobalRank</th>\n",
       "      <th>PrevTldRank</th>\n",
       "      <th>PrevRefSubNets</th>\n",
       "      <th>PrevRefIPs</th>\n",
       "    </tr>\n",
       "  </thead>\n",
       "  <tbody>\n",
       "    <tr>\n",
       "      <th>0</th>\n",
       "      <td>1</td>\n",
       "      <td>1</td>\n",
       "      <td>google.com</td>\n",
       "      <td>com</td>\n",
       "      <td>479230</td>\n",
       "      <td>2137257</td>\n",
       "      <td>google.com</td>\n",
       "      <td>com</td>\n",
       "      <td>1</td>\n",
       "      <td>1</td>\n",
       "      <td>478850</td>\n",
       "      <td>2136357</td>\n",
       "    </tr>\n",
       "    <tr>\n",
       "      <th>1</th>\n",
       "      <td>2</td>\n",
       "      <td>2</td>\n",
       "      <td>facebook.com</td>\n",
       "      <td>com</td>\n",
       "      <td>466195</td>\n",
       "      <td>2207970</td>\n",
       "      <td>facebook.com</td>\n",
       "      <td>com</td>\n",
       "      <td>2</td>\n",
       "      <td>2</td>\n",
       "      <td>465854</td>\n",
       "      <td>2207039</td>\n",
       "    </tr>\n",
       "    <tr>\n",
       "      <th>2</th>\n",
       "      <td>3</td>\n",
       "      <td>3</td>\n",
       "      <td>youtube.com</td>\n",
       "      <td>com</td>\n",
       "      <td>423723</td>\n",
       "      <td>1849219</td>\n",
       "      <td>youtube.com</td>\n",
       "      <td>com</td>\n",
       "      <td>3</td>\n",
       "      <td>3</td>\n",
       "      <td>423457</td>\n",
       "      <td>1848536</td>\n",
       "    </tr>\n",
       "    <tr>\n",
       "      <th>3</th>\n",
       "      <td>4</td>\n",
       "      <td>4</td>\n",
       "      <td>twitter.com</td>\n",
       "      <td>com</td>\n",
       "      <td>390436</td>\n",
       "      <td>1635184</td>\n",
       "      <td>twitter.com</td>\n",
       "      <td>com</td>\n",
       "      <td>4</td>\n",
       "      <td>4</td>\n",
       "      <td>390233</td>\n",
       "      <td>1634745</td>\n",
       "    </tr>\n",
       "    <tr>\n",
       "      <th>4</th>\n",
       "      <td>5</td>\n",
       "      <td>5</td>\n",
       "      <td>instagram.com</td>\n",
       "      <td>com</td>\n",
       "      <td>372749</td>\n",
       "      <td>1637015</td>\n",
       "      <td>instagram.com</td>\n",
       "      <td>com</td>\n",
       "      <td>5</td>\n",
       "      <td>5</td>\n",
       "      <td>372538</td>\n",
       "      <td>1636332</td>\n",
       "    </tr>\n",
       "  </tbody>\n",
       "</table>\n",
       "</div>"
      ],
      "text/plain": [
       "   GlobalRank  TldRank         Domain  TLD  RefSubNets   RefIPs  \\\n",
       "0           1        1     google.com  com      479230  2137257   \n",
       "1           2        2   facebook.com  com      466195  2207970   \n",
       "2           3        3    youtube.com  com      423723  1849219   \n",
       "3           4        4    twitter.com  com      390436  1635184   \n",
       "4           5        5  instagram.com  com      372749  1637015   \n",
       "\n",
       "      IDN_Domain IDN_TLD  PrevGlobalRank  PrevTldRank  PrevRefSubNets  \\\n",
       "0     google.com     com               1            1          478850   \n",
       "1   facebook.com     com               2            2          465854   \n",
       "2    youtube.com     com               3            3          423457   \n",
       "3    twitter.com     com               4            4          390233   \n",
       "4  instagram.com     com               5            5          372538   \n",
       "\n",
       "   PrevRefIPs  \n",
       "0     2136357  \n",
       "1     2207039  \n",
       "2     1848536  \n",
       "3     1634745  \n",
       "4     1636332  "
      ]
     },
     "execution_count": 3,
     "metadata": {},
     "output_type": "execute_result"
    }
   ],
   "source": [
    "#let' load the dataset\n",
    "\n",
    "# Load the CSV into a DataFrame\n",
    "df2 = pd.read_csv('majestic_million.csv')\n",
    "\n",
    "# Inspect the first few rows to ensure we're getting the right column\n",
    "df2.head()"
   ]
  },
  {
   "cell_type": "code",
   "execution_count": 4,
   "metadata": {
    "id": "dc5nOE9lnDD4"
   },
   "outputs": [],
   "source": [
    "#Extracting the first 10,000 legitimate urls\n",
    "top_urls = df2.iloc[:10000, 2].tolist()\n",
    "\n",
    "# Create a DataFrame with URLs and labels (0 for legitimate)\n",
    "data = {\n",
    "    'Urls': top_urls,\n",
    "    'Label': [0] * len(top_urls)  # Label 0 for legitimate URLs\n",
    "}\n",
    "\n",
    "# Convert the data to a DataFrame\n",
    "df_legit = pd.DataFrame(data)\n"
   ]
  },
  {
   "cell_type": "code",
   "execution_count": 5,
   "metadata": {
    "colab": {
     "base_uri": "https://localhost:8080/",
     "height": 423
    },
    "id": "Bj0soPTorpSP",
    "outputId": "5ffeaabb-ea48-4d78-b092-40160cd4bd71"
   },
   "outputs": [
    {
     "data": {
      "text/html": [
       "<div>\n",
       "<style scoped>\n",
       "    .dataframe tbody tr th:only-of-type {\n",
       "        vertical-align: middle;\n",
       "    }\n",
       "\n",
       "    .dataframe tbody tr th {\n",
       "        vertical-align: top;\n",
       "    }\n",
       "\n",
       "    .dataframe thead th {\n",
       "        text-align: right;\n",
       "    }\n",
       "</style>\n",
       "<table border=\"1\" class=\"dataframe\">\n",
       "  <thead>\n",
       "    <tr style=\"text-align: right;\">\n",
       "      <th></th>\n",
       "      <th>Urls</th>\n",
       "      <th>Label</th>\n",
       "    </tr>\n",
       "  </thead>\n",
       "  <tbody>\n",
       "    <tr>\n",
       "      <th>0</th>\n",
       "      <td>google.com</td>\n",
       "      <td>0</td>\n",
       "    </tr>\n",
       "    <tr>\n",
       "      <th>1</th>\n",
       "      <td>facebook.com</td>\n",
       "      <td>0</td>\n",
       "    </tr>\n",
       "    <tr>\n",
       "      <th>2</th>\n",
       "      <td>youtube.com</td>\n",
       "      <td>0</td>\n",
       "    </tr>\n",
       "    <tr>\n",
       "      <th>3</th>\n",
       "      <td>twitter.com</td>\n",
       "      <td>0</td>\n",
       "    </tr>\n",
       "    <tr>\n",
       "      <th>4</th>\n",
       "      <td>instagram.com</td>\n",
       "      <td>0</td>\n",
       "    </tr>\n",
       "    <tr>\n",
       "      <th>...</th>\n",
       "      <td>...</td>\n",
       "      <td>...</td>\n",
       "    </tr>\n",
       "    <tr>\n",
       "      <th>9995</th>\n",
       "      <td>legal500.com</td>\n",
       "      <td>0</td>\n",
       "    </tr>\n",
       "    <tr>\n",
       "      <th>9996</th>\n",
       "      <td>childrenshealthdefense.org</td>\n",
       "      <td>0</td>\n",
       "    </tr>\n",
       "    <tr>\n",
       "      <th>9997</th>\n",
       "      <td>blogdigy.com</td>\n",
       "      <td>0</td>\n",
       "    </tr>\n",
       "    <tr>\n",
       "      <th>9998</th>\n",
       "      <td>thetyee.ca</td>\n",
       "      <td>0</td>\n",
       "    </tr>\n",
       "    <tr>\n",
       "      <th>9999</th>\n",
       "      <td>giant-bicycles.com</td>\n",
       "      <td>0</td>\n",
       "    </tr>\n",
       "  </tbody>\n",
       "</table>\n",
       "<p>10000 rows × 2 columns</p>\n",
       "</div>"
      ],
      "text/plain": [
       "                            Urls  Label\n",
       "0                     google.com      0\n",
       "1                   facebook.com      0\n",
       "2                    youtube.com      0\n",
       "3                    twitter.com      0\n",
       "4                  instagram.com      0\n",
       "...                          ...    ...\n",
       "9995                legal500.com      0\n",
       "9996  childrenshealthdefense.org      0\n",
       "9997                blogdigy.com      0\n",
       "9998                  thetyee.ca      0\n",
       "9999          giant-bicycles.com      0\n",
       "\n",
       "[10000 rows x 2 columns]"
      ]
     },
     "execution_count": 5,
     "metadata": {},
     "output_type": "execute_result"
    }
   ],
   "source": [
    "df_legit"
   ]
  },
  {
   "cell_type": "markdown",
   "metadata": {
    "id": "DsFGeC1SrxGa"
   },
   "source": [
    "# MERGING THE BOTH DATASET TOGETHER"
   ]
  },
  {
   "cell_type": "code",
   "execution_count": 6,
   "metadata": {
    "id": "etoBOE48ruHs"
   },
   "outputs": [],
   "source": [
    "final_data = pd.concat([df, df_legit], ignore_index=True)"
   ]
  },
  {
   "cell_type": "code",
   "execution_count": 7,
   "metadata": {
    "colab": {
     "base_uri": "https://localhost:8080/",
     "height": 423
    },
    "id": "pbuVbEFHsGQM",
    "outputId": "b602d3ef-33e5-4cc7-b288-09b219e75c03"
   },
   "outputs": [
    {
     "data": {
      "text/html": [
       "<div>\n",
       "<style scoped>\n",
       "    .dataframe tbody tr th:only-of-type {\n",
       "        vertical-align: middle;\n",
       "    }\n",
       "\n",
       "    .dataframe tbody tr th {\n",
       "        vertical-align: top;\n",
       "    }\n",
       "\n",
       "    .dataframe thead th {\n",
       "        text-align: right;\n",
       "    }\n",
       "</style>\n",
       "<table border=\"1\" class=\"dataframe\">\n",
       "  <thead>\n",
       "    <tr style=\"text-align: right;\">\n",
       "      <th></th>\n",
       "      <th>Urls</th>\n",
       "      <th>Label</th>\n",
       "    </tr>\n",
       "  </thead>\n",
       "  <tbody>\n",
       "    <tr>\n",
       "      <th>0</th>\n",
       "      <td>https://point-relaisfrance.com/</td>\n",
       "      <td>1</td>\n",
       "    </tr>\n",
       "    <tr>\n",
       "      <th>1</th>\n",
       "      <td>https://point-relaisfrance.com/pac/calcul.php</td>\n",
       "      <td>1</td>\n",
       "    </tr>\n",
       "    <tr>\n",
       "      <th>2</th>\n",
       "      <td>https://allegrolokalnie.pl-kategorie-inne-120.icu</td>\n",
       "      <td>1</td>\n",
       "    </tr>\n",
       "    <tr>\n",
       "      <th>3</th>\n",
       "      <td>https://download-wallett-home.webflow.io</td>\n",
       "      <td>1</td>\n",
       "    </tr>\n",
       "    <tr>\n",
       "      <th>4</th>\n",
       "      <td>https://gasimoldiutarfditafidari.cfolks.pl/a/a...</td>\n",
       "      <td>1</td>\n",
       "    </tr>\n",
       "    <tr>\n",
       "      <th>...</th>\n",
       "      <td>...</td>\n",
       "      <td>...</td>\n",
       "    </tr>\n",
       "    <tr>\n",
       "      <th>19995</th>\n",
       "      <td>legal500.com</td>\n",
       "      <td>0</td>\n",
       "    </tr>\n",
       "    <tr>\n",
       "      <th>19996</th>\n",
       "      <td>childrenshealthdefense.org</td>\n",
       "      <td>0</td>\n",
       "    </tr>\n",
       "    <tr>\n",
       "      <th>19997</th>\n",
       "      <td>blogdigy.com</td>\n",
       "      <td>0</td>\n",
       "    </tr>\n",
       "    <tr>\n",
       "      <th>19998</th>\n",
       "      <td>thetyee.ca</td>\n",
       "      <td>0</td>\n",
       "    </tr>\n",
       "    <tr>\n",
       "      <th>19999</th>\n",
       "      <td>giant-bicycles.com</td>\n",
       "      <td>0</td>\n",
       "    </tr>\n",
       "  </tbody>\n",
       "</table>\n",
       "<p>20000 rows × 2 columns</p>\n",
       "</div>"
      ],
      "text/plain": [
       "                                                    Urls  Label\n",
       "0                        https://point-relaisfrance.com/      1\n",
       "1          https://point-relaisfrance.com/pac/calcul.php      1\n",
       "2      https://allegrolokalnie.pl-kategorie-inne-120.icu      1\n",
       "3               https://download-wallett-home.webflow.io      1\n",
       "4      https://gasimoldiutarfditafidari.cfolks.pl/a/a...      1\n",
       "...                                                  ...    ...\n",
       "19995                                       legal500.com      0\n",
       "19996                         childrenshealthdefense.org      0\n",
       "19997                                       blogdigy.com      0\n",
       "19998                                         thetyee.ca      0\n",
       "19999                                 giant-bicycles.com      0\n",
       "\n",
       "[20000 rows x 2 columns]"
      ]
     },
     "execution_count": 7,
     "metadata": {},
     "output_type": "execute_result"
    }
   ],
   "source": [
    "final_data"
   ]
  },
  {
   "cell_type": "code",
   "execution_count": 8,
   "metadata": {
    "colab": {
     "base_uri": "https://localhost:8080/",
     "height": 449
    },
    "id": "-7oyt0J6sHuq",
    "outputId": "1ba12ef9-bb7e-4d38-ad88-e5cc67645648"
   },
   "outputs": [
    {
     "data": {
      "image/png": "[encoded data removed]",
      "text/plain": [
       "<Figure size 640x480 with 1 Axes>"
      ]
     },
     "metadata": {},
     "output_type": "display_data"
    }
   ],
   "source": [
    "sns.countplot(x='Label', data=final_data)\n",
    "plt.show()"
   ]
  },
  {
   "cell_type": "markdown",
   "metadata": {
    "id": "vN3WE6FIxGWh"
   },
   "source": [
    "# Data Preprocessing"
   ]
  },
  {
   "cell_type": "code",
   "execution_count": 9,
   "metadata": {
    "id": "jHxw1LCmxI5P"
   },
   "outputs": [],
   "source": [
    "Urls = final_data.drop( 'Label', axis=1)\n",
    "y = final_data['Label']"
   ]
  },
  {
   "cell_type": "code",
   "execution_count": 10,
   "metadata": {
    "id": "xvlHgnrd1dpS"
   },
   "outputs": [],
   "source": [
    "Urls = final_data['Urls'].values.astype('U')"
   ]
  },
  {
   "cell_type": "code",
   "execution_count": 11,
   "metadata": {
    "id": "3AjVs_TFw2uI"
   },
   "outputs": [],
   "source": [
    "count_vect = CountVectorizer()\n",
    "X = count_vect.fit_transform(Urls)"
   ]
  },
  {
   "cell_type": "code",
   "execution_count": 12,
   "metadata": {
    "colab": {
     "base_uri": "https://localhost:8080/"
    },
    "id": "6bgV8AVZxlVy",
    "outputId": "314011be-b953-4345-dc4b-66ed8395b094"
   },
   "outputs": [
    {
     "data": {
      "text/plain": [
       "<20000x20241 sparse matrix of type '<class 'numpy.int64'>'\n",
       "\twith 74757 stored elements in Compressed Sparse Row format>"
      ]
     },
     "execution_count": 12,
     "metadata": {},
     "output_type": "execute_result"
    }
   ],
   "source": [
    "X"
   ]
  },
  {
   "cell_type": "code",
   "execution_count": 13,
   "metadata": {
    "colab": {
     "base_uri": "https://localhost:8080/"
    },
    "id": "wX_eoNHmxmBo",
    "outputId": "b8360de5-2ef9-42e2-b0de-823d7e82e8d1"
   },
   "outputs": [
    {
     "name": "stdout",
     "output_type": "stream",
     "text": [
      "Vocabulary size: 20241\n"
     ]
    }
   ],
   "source": [
    "print('Vocabulary size: %d' % X.shape[1])"
   ]
  },
  {
   "cell_type": "code",
   "execution_count": 14,
   "metadata": {
    "id": "fcnuWxuRyBz5"
   },
   "outputs": [],
   "source": [
    "def timer():\n",
    "    time0 = time.perf_counter()\n",
    "    yield\n",
    "    print('[elapsed time: %.2f s]' % (time.perf_counter() - time0))"
   ]
  },
  {
   "cell_type": "code",
   "execution_count": 15,
   "metadata": {
    "id": "-Pa7QJGayTuW"
   },
   "outputs": [],
   "source": [
    "class Our_Model:\n",
    "    \"\"\"\n",
    "    Our Model Trains a Logistic Regression model on plaintext data, encrypts the model for remote use by USER-1 and USER-2,\n",
    "    decrypts encrypted scores using the paillier private key.\n",
    "    \"\"\"\n",
    "\n",
    "    def __init__(self):\n",
    "        self.model = RandomForestClassifier()\n",
    "\n",
    "    # Generate Public and Private Key Pairs\n",
    "    # Public Key is used to Encrypt the Data, Private Key to Decrypt\n",
    "    def generate_paillier_keypair(self, n_length):\n",
    "        self.pubkey, self.privkey = paillier.generate_paillier_keypair(n_length=n_length)\n",
    "\n",
    "    # Train the Model\n",
    "    def fit(self, X, y):\n",
    "        self.model = self.model.fit(X, y)\n",
    "\n",
    "    # Make Predictions for Email \"Spam/Not Spam\"\n",
    "    def predict(self, X):\n",
    "        return self.model.predict(X)\n",
    "\n",
    "    # Encypt the Coefficients for the Random Forest Equation\n",
    "    # Weights can tell about the data, so Encrypt them\n",
    "    # Equation: y = mX + b\n",
    "    def encrypt_weights(self):\n",
    "        coef = self.model.coef_[0, :]\n",
    "        encrypted_weights = [self.pubkey.encrypt(coef[i])\n",
    "                             for i in range(coef.shape[0])]\n",
    "        encrypted_intercept = self.pubkey.encrypt(self.model.intercept_[0])\n",
    "        return encrypted_weights, encrypted_intercept\n",
    "\n",
    "    # Decrypt the Scores for the Model\n",
    "    def decrypt_scores(self, encrypted_scores):\n",
    "        return [self.privkey.decrypt(s) for s in encrypted_scores]"
   ]
  },
  {
   "cell_type": "code",
   "execution_count": 16,
   "metadata": {
    "id": "wpqd4vgIywgm"
   },
   "outputs": [],
   "source": [
    "# Now the USER-1 gets a trained model and trains on its own data all using Homomorphic Encryption.\n",
    "class User_1:\n",
    "    \"\"\"\n",
    "    USER-1/USER-2 are given the encrypted model trained by Our Model and the public key.\n",
    "\n",
    "    Scores local plaintext data with the encrypted model, but cannot decrypt\n",
    "    the scores without the private key held by Our Model.\n",
    "    \"\"\"\n",
    "\n",
    "    def __init__(self, pubkey):\n",
    "        self.pubkey = pubkey\n",
    "\n",
    "    # Set Initial Values of Coefficients\n",
    "    def set_weights(self, weights, intercept):\n",
    "        self.weights = weights\n",
    "        self.intercept = intercept\n",
    "\n",
    "    # Compute the Prediction Scores for the Model all while being totally Encrypted.\n",
    "    def encrypted_score(self, x):\n",
    "        \"\"\"Compute the score of `x` by multiplying with the encrypted model,\n",
    "        which is a vector of `paillier.EncryptedNumber`\"\"\"\n",
    "        score = self.intercept\n",
    "        _, idx = x.nonzero()\n",
    "        for i in idx:\n",
    "            score += x[0, i] * self.weights[i]\n",
    "        return score\n",
    "\n",
    "    # Get the Evaluation Scores for the Model\n",
    "    def encrypted_evaluate(self, X):\n",
    "        return [self.encrypted_score(X[i, :]) for i in range(X.shape[0])]\n"
   ]
  },
  {
   "cell_type": "code",
   "execution_count": 17,
   "metadata": {
    "id": "OV1SqahczV-I"
   },
   "outputs": [],
   "source": [
    "X_train, X_test, y_train, y_test = train_test_split(X, y, test_size=0.2, random_state=42)"
   ]
  },
  {
   "cell_type": "code",
   "execution_count": 18,
   "metadata": {
    "colab": {
     "base_uri": "https://localhost:8080/"
    },
    "id": "-DvO_Hsz1iQx",
    "outputId": "0a89fcf1-8ba4-4b12-ec1f-dd0fdd47b3a9"
   },
   "outputs": [
    {
     "name": "stdout",
     "output_type": "stream",
     "text": [
      "Generating Paillier Public Private Keypair\n"
     ]
    }
   ],
   "source": [
    "# Now firstly Our Model Generates the Public and Private Keys\n",
    "print(\"Generating Paillier Public Private Keypair\")\n",
    "our_model = Our_Model()\n",
    "# NOTE: using smaller keys sizes wouldn't be cryptographically safe\n",
    "our_model.generate_paillier_keypair(n_length=1024)\n"
   ]
  },
  {
   "cell_type": "code",
   "execution_count": 19,
   "metadata": {
    "colab": {
     "base_uri": "https://localhost:8080/"
    },
    "id": "PP0GbpFa1v0P",
    "outputId": "979a2bd0-c406-4ada-91c2-8f844a634a1c"
   },
   "outputs": [
    {
     "name": "stdout",
     "output_type": "stream",
     "text": [
      "Training Initial E-banking Phishing Classifier\n"
     ]
    }
   ],
   "source": [
    "print(\"Training Initial E-banking Phishing Classifier\")\n",
    "#with timer() as t:\n",
    "our_model.fit(X_train, y_train)"
   ]
  },
  {
   "cell_type": "markdown",
   "metadata": {
    "id": "5J9L3D4a4HMs"
   },
   "source": [
    "# Model Evaluation"
   ]
  },
  {
   "cell_type": "code",
   "execution_count": 20,
   "metadata": {
    "colab": {
     "base_uri": "https://localhost:8080/"
    },
    "id": "2xxI9Nh22Lsd",
    "outputId": "9011d9b4-91d2-412b-9ec9-7d8a87aab82c"
   },
   "outputs": [
    {
     "name": "stdout",
     "output_type": "stream",
     "text": [
      "Our Model's Classification on Test Data.\n",
      "Error 0.000\n"
     ]
    }
   ],
   "source": [
    "print(\"Our Model's Classification on Test Data.\")\n",
    "#with timer() as t:\n",
    "error = np.mean(our_model.predict(X_test) != y_test)\n",
    "print(\"Error {:.3f}\".format(error))"
   ]
  },
  {
   "cell_type": "code",
   "execution_count": 21,
   "metadata": {
    "colab": {
     "base_uri": "https://localhost:8080/",
     "height": 385
    },
    "id": "poQ8FCQx4dKe",
    "outputId": "8a3dae2e-66d4-4fbb-9f1b-cd0b413015c4"
   },
   "outputs": [
    {
     "data": {
      "image/png": "[encoded data removed]",
      "text/plain": [
       "<Figure size 600x400 with 1 Axes>"
      ]
     },
     "metadata": {},
     "output_type": "display_data"
    }
   ],
   "source": [
    " accuracy = 1 - error\n",
    "\n",
    "# Plotting\n",
    "labels = ['Error Rate', 'Accuracy']\n",
    "values = [error, accuracy]\n",
    "\n",
    "plt.figure(figsize=(6, 4))\n",
    "plt.bar(labels, values, color=['red', 'green'])\n",
    "plt.ylim(0, 1)\n",
    "plt.ylabel('Proportion')\n",
    "plt.grid(axis='y', linestyle='--', alpha=0.7)\n",
    "\n",
    "# Show the values on bars\n",
    "for i, v in enumerate(values):\n",
    "    plt.text(i, v + 0.02, f\"{v:.3f}\", ha='center', fontweight='bold')\n",
    "\n",
    "plt.show()"
   ]
  },
  {
   "cell_type": "code",
   "execution_count": 25,
   "metadata": {
    "id": "Q02CN3Y93AOm"
   },
   "outputs": [],
   "source": [
    "y_pred = our_model.predict(X_test)"
   ]
  },
  {
   "cell_type": "code",
   "execution_count": 26,
   "metadata": {
    "colab": {
     "base_uri": "https://localhost:8080/"
    },
    "id": "nRLbQ3Wf3HGC",
    "outputId": "4171b90e-cc8c-4b78-9de7-f396feef967a"
   },
   "outputs": [
    {
     "name": "stdout",
     "output_type": "stream",
     "text": [
      "Customized Classification Report For Random Forest Classifier:\n",
      "                             precision    recall  f1-score   support\n",
      "\n",
      "Legitimate Banking URLs (0)      1.000     0.999     1.000      1981\n",
      "E-Banking Phishing URLs (1)      1.000     1.000     1.000      2019\n",
      "\n",
      "                   accuracy                          1.000      4000\n",
      "                  macro avg      1.000     1.000     1.000      4000\n",
      "               weighted avg      1.000     1.000     1.000      4000\n",
      "\n"
     ]
    }
   ],
   "source": [
    "# Customized Classification Report\n",
    "target_names = ['Legitimate Banking URLs (0)', 'E-Banking Phishing URLs (1)']\n",
    "print(\"Customized Classification Report For Random Forest Classifier:\")\n",
    "print(classification_report(y_test, y_pred, target_names=target_names, digits=3))"
   ]
  },
  {
   "cell_type": "code",
   "execution_count": 27,
   "metadata": {
    "colab": {
     "base_uri": "https://localhost:8080/",
     "height": 594
    },
    "id": "xYgKMTsF4RcW",
    "outputId": "6a078ac0-0029-422b-a94b-40da1f5b6eb5"
   },
   "outputs": [
    {
     "data": {
      "image/png": "[encoded data removed]",
      "text/plain": [
       "<Figure size 600x400 with 2 Axes>"
      ]
     },
     "metadata": {},
     "output_type": "display_data"
    }
   ],
   "source": [
    "# Confusion Matrix\n",
    "cm = confusion_matrix(y_test, y_pred)\n",
    "\n",
    "# Visualize Confusion Matrix\n",
    "plt.figure(figsize=(6, 4))\n",
    "sns.heatmap(cm, annot=True, fmt='d', cmap='Blues', xticklabels=target_names, yticklabels=target_names)\n",
    "plt.xlabel('Predicted Label')\n",
    "plt.ylabel('True Label')\n",
    "plt.title('Confusion Matrix for E-Banking Phishing Detection For Random Forest Classifier')\n",
    "plt.show()"
   ]
  },
  {
   "cell_type": "markdown",
   "metadata": {
    "id": "mgFRC4hyPOjM"
   },
   "source": [
    "# Privacy preservation With Random Forest"
   ]
  },
  {
   "cell_type": "code",
   "execution_count": null,
   "metadata": {
    "id": "VugdsM20OX9Y"
   },
   "outputs": [],
   "source": [
    "class PrivacyPreservingRandomForest:\n",
    "    def __init__(self, pubkey, privkey=None):\n",
    "        self.model = RandomForestClassifier(n_estimators=10, random_state=42)\n",
    "        self.pubkey = pubkey\n",
    "        self.privkey = privkey\n",
    "\n",
    "    def fit(self, X, y):\n",
    "        self.model.fit(X, y)\n",
    "\n",
    "    def predict(self, X):\n",
    "        return self.model.predict(X)\n",
    "\n",
    "    def encrypted_predict(self, X_enc):\n",
    "        encrypted_preds = []\n",
    "        for tree in self.model.estimators_:\n",
    "            leaf_index = tree.apply(X_enc)\n",
    "            encrypted_leaf_sum = self.pubkey.encrypt(sum(leaf_index))\n",
    "            encrypted_preds.append(encrypted_leaf_sum)\n",
    "        return encrypted_preds\n",
    "\n",
    "    def decrypt_predictions(self, encrypted_preds):\n",
    "        return [self.privkey.decrypt(p) for p in encrypted_preds]\n"
   ]
  },
  {
   "cell_type": "code",
   "execution_count": null,
   "metadata": {
    "id": "1jll7VMxPDTQ"
   },
   "outputs": [],
   "source": [
    "# Generate Paillier key pair\n",
    "pubkey, privkey = paillier.generate_paillier_keypair(n_length=1024)"
   ]
  },
  {
   "cell_type": "code",
   "execution_count": null,
   "metadata": {
    "id": "wQUG5zasOtBp"
   },
   "outputs": [],
   "source": [
    "pp_rf_model = PrivacyPreservingRandomForest(pubkey, privkey)\n",
    "pp_rf_model.fit(X_train, y_train)"
   ]
  },
  {
   "cell_type": "code",
   "execution_count": null,
   "metadata": {
    "colab": {
     "base_uri": "https://localhost:8080/"
    },
    "id": "gO-rNp50PFxp",
    "outputId": "61de141b-30d6-4d73-c3b0-3f36dffe39cd"
   },
   "outputs": [],
   "source": [
    "# Evaluation on Test Data\n",
    "print(\"Evaluating Random Forest Model on Test Data...\")\n",
    "y_pred = pp_rf_model.predict(X_test)\n",
    "print(\"Accuracy:\", accuracy_score(y_test, y_pred))\n",
    "print(\"Classification Report:\")\n",
    "print(classification_report(y_test, y_pred, target_names=['Legitimate', 'Phishing'], digits=3))"
   ]
  },
  {
   "cell_type": "code",
   "execution_count": null,
   "metadata": {
    "colab": {
     "base_uri": "https://localhost:8080/",
     "height": 472
    },
    "id": "8UGfdxVtPoS1",
    "outputId": "ea8876b5-6673-4a23-ab7d-3f8f20793b57"
   },
   "outputs": [],
   "source": [
    "# Confusion Matrix\n",
    "cm = confusion_matrix(y_test, y_pred)\n",
    "sns.heatmap(cm, annot=True, fmt='d', cmap='Blues', xticklabels=['Legitimate', 'Phishing'], yticklabels=['Legitimate', 'Phishing'])\n",
    "plt.xlabel('Predicted Label')\n",
    "plt.ylabel('True Label')\n",
    "plt.title('Confusion Matrix with Random Forest With Homomorphic Encryption')\n",
    "plt.show()"
   ]
  },
  {
   "cell_type": "code",
   "execution_count": null,
   "metadata": {
    "colab": {
     "base_uri": "https://localhost:8080/",
     "height": 564
    },
    "id": "KRuHnxqRPx7l",
    "outputId": "59afdf59-f959-472e-9124-4dac19bc817c"
   },
   "outputs": [],
   "source": [
    "# Feature Importance Plot\n",
    "feature_importances = pp_rf_model.model.feature_importances_\n",
    "feature_names = count_vect.get_feature_names_out()\n",
    "importance_df = pd.DataFrame({'Feature': feature_names, 'Importance': feature_importances})\n",
    "importance_df = importance_df.sort_values(by='Importance', ascending=False).head(20)\n",
    "\n",
    "plt.figure(figsize=(10, 6))\n",
    "sns.barplot(x='Importance', y='Feature', data=importance_df)\n",
    "plt.title('Top 20 Important Features in URL Phishing Detection')\n",
    "plt.xlabel('Importance Score')\n",
    "plt.ylabel('Feature')\n",
    "plt.show()"
   ]
  },
  {
   "cell_type": "markdown",
   "metadata": {
    "id": "A1od4qf7_7aw"
   },
   "source": [
    "# Federated Learning With Logistics Regression"
   ]
  },
  {
   "cell_type": "code",
   "execution_count": null,
   "metadata": {
    "id": "BHYzmA--GMaf"
   },
   "outputs": [],
   "source": [
    "class Our_Model1:\n",
    "    \"\"\"\n",
    "    Our Model Trains a Logistic Regression model on plaintext data, encrypts the model for remote use by USER-1 and USER-2,\n",
    "    decrypts encrypted scores using the paillier private key.\n",
    "    \"\"\"\n",
    "\n",
    "    def __init__(self):\n",
    "        self.model = LogisticRegression()\n",
    "\n",
    "    # Generate Public and Private Key Pairs\n",
    "    # Public Key is used to Encrypt the Data, Private Key to Decrypt\n",
    "    def generate_paillier_keypair(self, n_length):\n",
    "        self.pubkey, self.privkey = paillier.generate_paillier_keypair(n_length=n_length)\n",
    "\n",
    "    # Train the Model\n",
    "    def fit(self, X, y):\n",
    "        self.model = self.model.fit(X, y)\n",
    "\n",
    "    # Make Predictions for Email \"Spam/Not Spam\"\n",
    "    def predict(self, X):\n",
    "        return self.model.predict(X)\n",
    "\n",
    "    # Encypt the Coefficients for the Logistic Regression Equation\n",
    "    # Weights can tell about the data, so Encrypt them\n",
    "    # Equation: y = mX + b\n",
    "    def encrypt_weights(self):\n",
    "        coef = self.model.coef_[0, :]\n",
    "        encrypted_weights = [self.pubkey.encrypt(coef[i])\n",
    "                             for i in range(coef.shape[0])]\n",
    "        encrypted_intercept = self.pubkey.encrypt(self.model.intercept_[0])\n",
    "        return encrypted_weights, encrypted_intercept\n",
    "\n",
    "    # Decrypt the Scores for the Model\n",
    "    def decrypt_scores(self, encrypted_scores):\n",
    "        return [self.privkey.decrypt(s) for s in encrypted_scores]"
   ]
  },
  {
   "cell_type": "code",
   "execution_count": null,
   "metadata": {
    "colab": {
     "base_uri": "https://localhost:8080/"
    },
    "id": "fmehszJkGz08",
    "outputId": "6f7f34e3-16ec-4fde-99df-e18b0fac2182"
   },
   "outputs": [],
   "source": [
    "# Now firstly Our Model Generates the Public and Private Keys\n",
    "print(\"Generating Paillier Public Private Keypair\")\n",
    "logistic_model = Our_Model1()\n",
    "# NOTE: using smaller keys sizes wouldn't be cryptographically safe\n",
    "logistic_model.generate_paillier_keypair(n_length=1024)\n"
   ]
  },
  {
   "cell_type": "code",
   "execution_count": null,
   "metadata": {
    "colab": {
     "base_uri": "https://localhost:8080/"
    },
    "id": "6gnECWjmHcDf",
    "outputId": "68362dfc-b5e5-435e-98b1-2fc2b7d853e1"
   },
   "outputs": [],
   "source": [
    "print(\"Training Initial E-banking Phishing Classifier\")\n",
    "#with timer() as t:\n",
    "logistic_model.fit(X_train, y_train)"
   ]
  },
  {
   "cell_type": "markdown",
   "metadata": {
    "id": "BkFE8XXFHwH7"
   },
   "source": [
    "# Evaluation of Logistic Regression"
   ]
  },
  {
   "cell_type": "code",
   "execution_count": null,
   "metadata": {
    "colab": {
     "base_uri": "https://localhost:8080/"
    },
    "id": "SJPlESFtHnLI",
    "outputId": "a67ce901-8978-463e-86bc-b9f4aaac0045"
   },
   "outputs": [],
   "source": [
    "print(\"logistic Model's Classification on Test Data.\")\n",
    "#with timer() as t:\n",
    "error = np.mean(logistic_model.predict(X_test) != y_test)\n",
    "print(\"Error {:.3f}\".format(error))"
   ]
  },
  {
   "cell_type": "code",
   "execution_count": null,
   "metadata": {
    "id": "eXe1skcBILbA"
   },
   "outputs": [],
   "source": [
    "log_pred = logistic_model.predict(X_test)"
   ]
  },
  {
   "cell_type": "code",
   "execution_count": null,
   "metadata": {
    "colab": {
     "base_uri": "https://localhost:8080/"
    },
    "id": "hBvRnB3HIAN-",
    "outputId": "0fb83088-95b6-4e82-a50a-658f1177fd8b"
   },
   "outputs": [],
   "source": [
    "# Customized Classification Report\n",
    "target_names = ['Legitimate Banking URLs (0)', 'E-Banking Phishing URLs (1)']\n",
    "print(\"Customized Classification Report For Logistic Regression:\")\n",
    "print(classification_report(y_test, log_pred, target_names=target_names, digits=3))"
   ]
  },
  {
   "cell_type": "code",
   "execution_count": null,
   "metadata": {
    "colab": {
     "base_uri": "https://localhost:8080/",
     "height": 594
    },
    "id": "rjW1hnaZImxV",
    "outputId": "2151f4c6-0351-468b-ae95-f09765e35c81"
   },
   "outputs": [],
   "source": [
    "# Confusion Matrix\n",
    "cm = confusion_matrix(y_test, log_pred)\n",
    "\n",
    "# Visualize Confusion Matrix\n",
    "plt.figure(figsize=(6, 4))\n",
    "sns.heatmap(cm, annot=True, fmt='d', cmap='Blues', xticklabels=target_names, yticklabels=target_names)\n",
    "plt.xlabel('Predicted Label')\n",
    "plt.ylabel('True Label')\n",
    "plt.title('Confusion Matrix for E-Banking Phishing Detection For Logistic Regression')\n",
    "plt.show()"
   ]
  },
  {
   "cell_type": "markdown",
   "metadata": {
    "id": "-26oJ6Q8JGw7"
   },
   "source": [
    "# Encrypting and Decrypting Logistic Regression Model"
   ]
  },
  {
   "cell_type": "code",
   "execution_count": null,
   "metadata": {
    "colab": {
     "base_uri": "https://localhost:8080/"
    },
    "id": "3-yuD6OCIxzM",
    "outputId": "dda1b47a-896d-4ea6-c704-13aec4c03b14"
   },
   "outputs": [],
   "source": [
    "print(\"Encrypting Trained Classifier before sending to USER-1/2\")\n",
    "#with timer() as t:\n",
    "encrypted_weights, encrypted_intercept = logistic_model.encrypt_weights()"
   ]
  },
  {
   "cell_type": "code",
   "execution_count": null,
   "metadata": {
    "colab": {
     "base_uri": "https://localhost:8080/"
    },
    "id": "Eh0yDoysJOLf",
    "outputId": "5599a500-356b-4f7f-ff34-a6eaa5d4e11c"
   },
   "outputs": [],
   "source": [
    "# Confirming the Weights are Encrypted\n",
    "print(\"Encrypted Weights: \", encrypted_weights)\n",
    "print(\"Encrypted Intercept: \", encrypted_intercept)"
   ]
  },
  {
   "cell_type": "code",
   "execution_count": null,
   "metadata": {
    "colab": {
     "base_uri": "https://localhost:8080/"
    },
    "id": "7q1qXjKYMGij",
    "outputId": "4e76397a-8214-480f-ab49-5800fcc54247"
   },
   "outputs": [],
   "source": [
    "# USER-1 taking the encrypted model, weights and testing performance on it's own dataset\n",
    "print(\"USER-1: Scoring on own data with logistic Model's Encrypted Classifier...\")"
   ]
  },
  {
   "cell_type": "code",
   "execution_count": null,
   "metadata": {
    "id": "1rMXkHQpMIzh"
   },
   "outputs": [],
   "source": [
    "# Our Model sends the Public Keys to perform operations\n",
    "user_1 = User_1(logistic_model.pubkey)\n",
    "\n",
    "# USER-1 sets the model Hyperparameters to Our Model's Hyperparameter values\n",
    "user_1.set_weights(encrypted_weights, encrypted_intercept)"
   ]
  },
  {
   "cell_type": "code",
   "execution_count": null,
   "metadata": {
    "colab": {
     "base_uri": "https://localhost:8080/"
    },
    "id": "hPx2A8_9MMqa",
    "outputId": "ea48679a-e9c7-43a2-ed0d-a884c61d73d5"
   },
   "outputs": [],
   "source": [
    "\n",
    "#with timer() as t:\n",
    "encrypted_scores = user_1.encrypted_evaluate(X_test)\n",
    "\n",
    "# Making Sure the Score is Encrypted\n",
    "#print(encrypted_scores)\n",
    "print(\"Decrypting USER-1/2's scores\")\n",
    "\n",
    "#with timer() as t:\n",
    "scores = logistic_model.decrypt_scores(encrypted_scores)\n",
    "error = np.mean(np.sign(scores) != y_test)\n",
    "print(error)"
   ]
  },
  {
   "cell_type": "code",
   "execution_count": null,
   "metadata": {
    "colab": {
     "base_uri": "https://localhost:8080/",
     "height": 374
    },
    "id": "68RpOKhLODDr",
    "outputId": "89324b3a-bc84-4d0a-ee00-e2d0e34dd5d1"
   },
   "outputs": [],
   "source": [
    " accuracy = 1 - error\n",
    "\n",
    "# Plotting\n",
    "labels = ['Error Rate', 'Accuracy']\n",
    "values = [error, accuracy]\n",
    "\n",
    "plt.figure(figsize=(6, 4))\n",
    "plt.bar(labels, values, color=['red', 'green'])\n",
    "plt.ylim(0, 1)\n",
    "plt.ylabel('Proportion')\n",
    "plt.grid(axis='y', linestyle='--', alpha=0.7)\n",
    "\n",
    "# Show the values on bars\n",
    "for i, v in enumerate(values):\n",
    "    plt.text(i, v + 0.02, f\"{v:.3f}\", ha='center', fontweight='bold')\n",
    "\n",
    "plt.show()"
   ]
  }
 ],
 "metadata": {
  "colab": {
   "provenance": []
  },
  "kernelspec": {
   "display_name": "Python 3 (ipykernel)",
   "language": "python",
   "name": "python3"
  },
  "language_info": {
   "codemirror_mode": {
    "name": "ipython",
    "version": 3
   },
   "file_extension": ".py",
   "mimetype": "text/x-python",
   "name": "python",
   "nbconvert_exporter": "python",
   "pygments_lexer": "ipython3",
   "version": "3.11.7"
  }
 },
 "nbformat": 4,
 "nbformat_minor": 4
}
